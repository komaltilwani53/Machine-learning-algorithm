{
 "cells": [
  {
   "cell_type": "code",
   "execution_count": 118,
   "id": "6a1d842a",
   "metadata": {},
   "outputs": [],
   "source": [
    "%run STAGE0_IMPORT_LIBS.ipynb"
   ]
  },
  {
   "cell_type": "code",
   "execution_count": 119,
   "id": "aac8eb1c",
   "metadata": {},
   "outputs": [],
   "source": [
    "#data=active_smiles_df+inactive_smiles_df\n",
    "cwd = os.getcwd()\n",
    "parent_dir = os.path.abspath(os.path.join(cwd, os.pardir))\n",
    "active_data_df=pd.read_csv(parent_dir+'\\\\0_skdata\\chemical_names_pubchem_active.csv')\n",
    "active_data_df['PubChem_ID'] = active_data_df['PubChem_ID'].astype(str)\n",
    "inactive_data_df=pd.read_csv(parent_dir+'\\\\0_skdata\\inactive_dude_db_top4.csv')\n",
    "data = pd.concat([active_data_df, inactive_data_df])\n",
    "data=data.reset_index(drop=True)\n",
    "data['data_index'] = data.index"
   ]
  },
  {
   "cell_type": "code",
   "execution_count": 120,
   "id": "0163c424",
   "metadata": {},
   "outputs": [],
   "source": [
    "# Load data from CSV file and set probability_factor and corr_factor\n",
    "probability_factor=0.5\n",
    "corr_factor=0.2\n",
    "head_top_smiles=10\n",
    "testsize=0.2\n",
    "randomstate=2"
   ]
  },
  {
   "cell_type": "code",
   "execution_count": 121,
   "id": "fa9c0107",
   "metadata": {},
   "outputs": [],
   "source": [
    "input_data=data\n",
    "selected_cols=['activity', 'SMILES','data_index']\n",
    "data=data[selected_cols]"
   ]
  },
  {
   "cell_type": "code",
   "execution_count": 122,
   "id": "c0274317",
   "metadata": {},
   "outputs": [
    {
     "name": "stderr",
     "output_type": "stream",
     "text": [
      "C:\\Users\\ASUS\\AppData\\Local\\Temp\\ipykernel_3668\\521994265.py:5: SettingWithCopyWarning: \n",
      "A value is trying to be set on a copy of a slice from a DataFrame.\n",
      "Try using .loc[row_indexer,col_indexer] = value instead\n",
      "\n",
      "See the caveats in the documentation: https://pandas.pydata.org/pandas-docs/stable/user_guide/indexing.html#returning-a-view-versus-a-copy\n",
      "  data['Molecule'] = mols\n",
      "C:\\Users\\ASUS\\AppData\\Local\\Temp\\ipykernel_3668\\521994265.py:9: SettingWithCopyWarning: \n",
      "A value is trying to be set on a copy of a slice from a DataFrame.\n",
      "Try using .loc[row_indexer,col_indexer] = value instead\n",
      "\n",
      "See the caveats in the documentation: https://pandas.pydata.org/pandas-docs/stable/user_guide/indexing.html#returning-a-view-versus-a-copy\n",
      "  data['MW'] = [Descriptors.MolWt(mol) for mol in mols]\n",
      "C:\\Users\\ASUS\\AppData\\Local\\Temp\\ipykernel_3668\\521994265.py:10: SettingWithCopyWarning: \n",
      "A value is trying to be set on a copy of a slice from a DataFrame.\n",
      "Try using .loc[row_indexer,col_indexer] = value instead\n",
      "\n",
      "See the caveats in the documentation: https://pandas.pydata.org/pandas-docs/stable/user_guide/indexing.html#returning-a-view-versus-a-copy\n",
      "  data['LogP'] = [Descriptors.MolLogP(mol) for mol in mols]\n",
      "C:\\Users\\ASUS\\anaconda3\\lib\\site-packages\\scipy\\stats\\_stats_py.py:4424: ConstantInputWarning: An input array is constant; the correlation coefficient is not defined.\n",
      "  warnings.warn(stats.ConstantInputWarning(msg))\n"
     ]
    }
   ],
   "source": [
    "##STAGE 5.1: GENERATE DESCRIPTORS, FIND DESCRIPTORS WITH CORRELATION COFFIENT MORE THAN 0.5 AND APPLY ML MODEL\n",
    "\n",
    "# Convert SMILES strings to molecules\n",
    "mols = [Chem.MolFromSmiles(smi) for smi in data['SMILES']]\n",
    "data['Molecule'] = mols\n",
    "\n",
    "# Calculate molecular descriptors\n",
    "#X = pd.DataFrame()\n",
    "data['MW'] = [Descriptors.MolWt(mol) for mol in mols]\n",
    "data['LogP'] = [Descriptors.MolLogP(mol) for mol in mols]\n",
    "data['NumHAcceptors'] = [Descriptors.NumHAcceptors(mol) for mol in mols]\n",
    "data['NumHDonors'] = [Descriptors.NumHDonors(mol) for mol in mols]\n",
    "data['NumRotatableBonds'] = [Descriptors.NumRotatableBonds(mol) for mol in mols]\n",
    "\n",
    "data['TPSA'] = [Descriptors.TPSA(mol) for mol in mols]\n",
    "data['NumAromaticRings'] = [Descriptors.NumAromaticRings(mol) for mol in mols]\n",
    "data['NumAliphaticRings'] = [Descriptors.NumAliphaticRings(mol) for mol in mols]\n",
    "data['NumSaturatedRings'] = [Descriptors.NumSaturatedRings(mol) for mol in mols]\n",
    "data['NumHeteroatoms'] = [Descriptors.NumHeteroatoms(mol) for mol in mols]\n",
    "data['NumHeavyAtoms'] = [Descriptors.HeavyAtomCount(mol) for mol in mols]\n",
    "data['NumRings'] = [Descriptors.RingCount(mol) for mol in mols]\n",
    "data['NumValenceElectrons'] = [Descriptors.NumValenceElectrons(mol) for mol in mols]\n",
    "data['NumRadicalElectrons'] = [Descriptors.NumRadicalElectrons(mol) for mol in mols]\n",
    "data['ExactMolWt'] = [Descriptors.ExactMolWt(mol) for mol in mols]\n",
    "data['FractionCSP3'] = [Descriptors.FractionCSP3(mol) for mol in mols]\n",
    "X_train=[]\n",
    "X_test=[]\n",
    "y_test=[]\n",
    "y_train=[]\n",
    "X=[]\n",
    "y=[]\n",
    "\n",
    "\n",
    "# Set activity as target variable\n",
    "y = data['activity']\n",
    "#X=data\n",
    "X =  data[['MW', 'LogP', 'NumHDonors', 'NumHAcceptors', 'NumRotatableBonds','TPSA','NumAromaticRings','NumAliphaticRings','NumSaturatedRings','NumHeteroatoms','NumHeavyAtoms','NumRings','NumValenceElectrons','NumRadicalElectrons','ExactMolWt','FractionCSP3', 'data_index']]\n",
    "# Split data into training and testing sets\n",
    "X_train, X_test, y_train, y_test = train_test_split(X, y, test_size=testsize, stratify=y, random_state=randomstate)\n",
    "#print(X.shape, X_train.shape, X_test.shape)\n",
    "selected_features=['MW', 'LogP', 'NumHDonors', 'NumHAcceptors', 'NumRotatableBonds','TPSA','NumAromaticRings','NumAliphaticRings','NumSaturatedRings','NumHeteroatoms','NumHeavyAtoms','NumRings','NumValenceElectrons','NumRadicalElectrons','ExactMolWt','FractionCSP3']\n",
    "\n",
    "\n",
    "# Calculate Pearson correlation coefficient for each feature\n",
    "corr_dict=dict()\n",
    "for column in X_train[selected_features].columns:\n",
    "    corr, _ = pearsonr(X_train[column], y_train)\n",
    "    corr_dict[column] = corr\n",
    "\n",
    "# Select highly correlated features\n",
    "highly_corr_features = [feat for feat, corr in corr_dict.items() if abs(corr) > corr_factor]"
   ]
  },
  {
   "cell_type": "code",
   "execution_count": 123,
   "id": "62b28295",
   "metadata": {},
   "outputs": [
    {
     "name": "stdout",
     "output_type": "stream",
     "text": [
      "Selected Correlated Features: ['NumAliphaticRings', 'NumSaturatedRings', 'FractionCSP3']\n"
     ]
    }
   ],
   "source": [
    "print(\"Selected Correlated Features:\",highly_corr_features)"
   ]
  },
  {
   "cell_type": "code",
   "execution_count": 124,
   "id": "8f16a6d0",
   "metadata": {},
   "outputs": [
    {
     "name": "stdout",
     "output_type": "stream",
     "text": [
      "(355, 17) (284, 19) (71, 19)\n"
     ]
    }
   ],
   "source": [
    "##STAGE 5.2: Apply Machine Learning Model and Predict Probability\n",
    "nb = GaussianNB()\n",
    "nb.fit(X_train[highly_corr_features], y_train)\n",
    "probabilities =       nb.predict_proba(X_test[highly_corr_features])[:, 1]\n",
    "probabilities_train = nb.predict_proba(X_train[highly_corr_features])[:, 1]\n",
    "\n",
    "y_pred = (probabilities > probability_factor).astype(int)\n",
    "\n",
    "accuracy = accuracy_score( y_pred,y_test)\n",
    "\n",
    "#create an actual column from pseduo column of index which can be used for joining two dataframe\n",
    "\n",
    "X_test['ProbActivity'] = probabilities\n",
    "X_test['test_type'] = 'Test Set'\n",
    "\n",
    "X_train['ProbActivity'] = probabilities_train\n",
    "X_train['test_type'] = 'Training Set'\n",
    "print(X.shape, X_train.shape, X_test.shape)\n",
    "\n",
    "custom_features=['data_index','ProbActivity','test_type']\n",
    "\n",
    "#custom_features.extend(highly_corr_features)\n",
    "processed_data=pd.concat([X_test[custom_features], X_train[custom_features]])"
   ]
  },
  {
   "cell_type": "code",
   "execution_count": 125,
   "id": "98af847d",
   "metadata": {},
   "outputs": [],
   "source": [
    "merged_final_data = pd.merge(input_data, processed_data, on='data_index', how='left')\n",
    "filtered_final_data = merged_final_data.loc[(merged_final_data['activity'] > 0) & (pd.notnull(merged_final_data['ProbActivity'] ))]#.sort_values(by='data_index', ascending=True).head(45)\n",
    "custom_features.extend(highly_corr_features)\n",
    "input_data_column=['SMILES']\n",
    "input_data_column.extend(custom_features)"
   ]
  },
  {
   "cell_type": "code",
   "execution_count": 126,
   "id": "b0df03cb",
   "metadata": {},
   "outputs": [
    {
     "name": "stdout",
     "output_type": "stream",
     "text": [
      "ML Model Accuracy=0.7746478873239436\n"
     ]
    },
    {
     "data": {
      "text/html": [
       "<div>\n",
       "<style scoped>\n",
       "    .dataframe tbody tr th:only-of-type {\n",
       "        vertical-align: middle;\n",
       "    }\n",
       "\n",
       "    .dataframe tbody tr th {\n",
       "        vertical-align: top;\n",
       "    }\n",
       "\n",
       "    .dataframe thead th {\n",
       "        text-align: right;\n",
       "    }\n",
       "</style>\n",
       "<table border=\"1\" class=\"dataframe\">\n",
       "  <thead>\n",
       "    <tr style=\"text-align: right;\">\n",
       "      <th></th>\n",
       "      <th>Chemical_Name</th>\n",
       "      <th>SMILES</th>\n",
       "      <th>PubChem_ID</th>\n",
       "      <th>activity</th>\n",
       "      <th>state</th>\n",
       "      <th>PID</th>\n",
       "      <th>data_index</th>\n",
       "      <th>ProbActivity</th>\n",
       "      <th>test_type</th>\n",
       "    </tr>\n",
       "  </thead>\n",
       "  <tbody>\n",
       "    <tr>\n",
       "      <th>11</th>\n",
       "      <td>Bacoside A3</td>\n",
       "      <td>CC(=CC1CC(C2C3CCC4C5(CCC(C(C5CCC4(C36CC2(O1)OC...</td>\n",
       "      <td>91827005</td>\n",
       "      <td>1</td>\n",
       "      <td>ACTIVE</td>\n",
       "      <td>NaN</td>\n",
       "      <td>11</td>\n",
       "      <td>1.000000</td>\n",
       "      <td>Test Set</td>\n",
       "    </tr>\n",
       "    <tr>\n",
       "      <th>22</th>\n",
       "      <td>Carvacrol</td>\n",
       "      <td>CC1=C(C=C(C=C1)C(C)C)O</td>\n",
       "      <td>10364</td>\n",
       "      <td>1</td>\n",
       "      <td>ACTIVE</td>\n",
       "      <td>NaN</td>\n",
       "      <td>22</td>\n",
       "      <td>0.013620</td>\n",
       "      <td>Training Set</td>\n",
       "    </tr>\n",
       "    <tr>\n",
       "      <th>28</th>\n",
       "      <td>Diosgenin</td>\n",
       "      <td>CC1CCC2(C(C3C(O2)CC4C3(CCC5C4CC=C6C5(CCC(C6)O)...</td>\n",
       "      <td>99474</td>\n",
       "      <td>1</td>\n",
       "      <td>ACTIVE</td>\n",
       "      <td>NaN</td>\n",
       "      <td>28</td>\n",
       "      <td>1.000000</td>\n",
       "      <td>Training Set</td>\n",
       "    </tr>\n",
       "    <tr>\n",
       "      <th>44</th>\n",
       "      <td>Inulin</td>\n",
       "      <td>C(C1C(C(C(C(O1)OC2(C(C(C(O2)CO)O)O)COC3(C(C(C(...</td>\n",
       "      <td>24763</td>\n",
       "      <td>1</td>\n",
       "      <td>ACTIVE</td>\n",
       "      <td>NaN</td>\n",
       "      <td>44</td>\n",
       "      <td>1.000000</td>\n",
       "      <td>Training Set</td>\n",
       "    </tr>\n",
       "    <tr>\n",
       "      <th>73</th>\n",
       "      <td>Rutoside</td>\n",
       "      <td>CC1C(C(C(C(O1)OCC2C(C(C(C(O2)OC3=C(OC4=CC(=CC(...</td>\n",
       "      <td>5280805</td>\n",
       "      <td>1</td>\n",
       "      <td>ACTIVE</td>\n",
       "      <td>NaN</td>\n",
       "      <td>73</td>\n",
       "      <td>0.230652</td>\n",
       "      <td>Test Set</td>\n",
       "    </tr>\n",
       "  </tbody>\n",
       "</table>\n",
       "</div>"
      ],
      "text/plain": [
       "   Chemical_Name                                             SMILES  \\\n",
       "11   Bacoside A3  CC(=CC1CC(C2C3CCC4C5(CCC(C(C5CCC4(C36CC2(O1)OC...   \n",
       "22     Carvacrol                             CC1=C(C=C(C=C1)C(C)C)O   \n",
       "28     Diosgenin  CC1CCC2(C(C3C(O2)CC4C3(CCC5C4CC=C6C5(CCC(C6)O)...   \n",
       "44        Inulin  C(C1C(C(C(C(O1)OC2(C(C(C(O2)CO)O)O)COC3(C(C(C(...   \n",
       "73      Rutoside  CC1C(C(C(C(O1)OCC2C(C(C(C(O2)OC3=C(OC4=CC(=CC(...   \n",
       "\n",
       "   PubChem_ID  activity   state  PID  data_index  ProbActivity     test_type  \n",
       "11   91827005         1  ACTIVE  NaN          11      1.000000      Test Set  \n",
       "22      10364         1  ACTIVE  NaN          22      0.013620  Training Set  \n",
       "28      99474         1  ACTIVE  NaN          28      1.000000  Training Set  \n",
       "44      24763         1  ACTIVE  NaN          44      1.000000  Training Set  \n",
       "73    5280805         1  ACTIVE  NaN          73      0.230652      Test Set  "
      ]
     },
     "execution_count": 126,
     "metadata": {},
     "output_type": "execute_result"
    }
   ],
   "source": [
    "print(\"ML Model Accuracy=\"+str(accuracy))\n",
    "filtered_final_data.loc[filtered_final_data['Chemical_Name'].isin([ 'Rutoside','Bacoside A3','Diosgenin','Carvacrol','Inulin'])]"
   ]
  }
 ],
 "metadata": {
  "kernelspec": {
   "display_name": "Python 3 (ipykernel)",
   "language": "python",
   "name": "python3"
  },
  "language_info": {
   "codemirror_mode": {
    "name": "ipython",
    "version": 3
   },
   "file_extension": ".py",
   "mimetype": "text/x-python",
   "name": "python",
   "nbconvert_exporter": "python",
   "pygments_lexer": "ipython3",
   "version": "3.9.13"
  }
 },
 "nbformat": 4,
 "nbformat_minor": 5
}
